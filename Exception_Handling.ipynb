{
 "cells": [
  {
   "cell_type": "markdown",
   "id": "d8d8826b",
   "metadata": {},
   "source": [
    "# Exception Handling"
   ]
  },
  {
   "cell_type": "code",
   "execution_count": 2,
   "id": "075438f2",
   "metadata": {},
   "outputs": [
    {
     "ename": "SyntaxError",
     "evalue": "EOL while scanning string literal (1516890773.py, line 1)",
     "output_type": "error",
     "traceback": [
      "\u001b[0;36m  Input \u001b[0;32mIn [2]\u001b[0;36m\u001b[0m\n\u001b[0;31m    print(\"dckmd)\u001b[0m\n\u001b[0m                 ^\u001b[0m\n\u001b[0;31mSyntaxError\u001b[0m\u001b[0;31m:\u001b[0m EOL while scanning string literal\n"
     ]
    }
   ],
   "source": [
    "print(\"dckmd)"
   ]
  },
  {
   "cell_type": "code",
   "execution_count": 3,
   "id": "a6ac7131",
   "metadata": {},
   "outputs": [],
   "source": [
    "def test(a,b):\n",
    "    return a/b"
   ]
  },
  {
   "cell_type": "code",
   "execution_count": 7,
   "id": "300c6bc7",
   "metadata": {},
   "outputs": [
    {
     "ename": "ZeroDivisionError",
     "evalue": "division by zero",
     "output_type": "error",
     "traceback": [
      "\u001b[0;31m---------------------------------------------------------------------------\u001b[0m",
      "\u001b[0;31mZeroDivisionError\u001b[0m                         Traceback (most recent call last)",
      "Input \u001b[0;32mIn [7]\u001b[0m, in \u001b[0;36m<cell line: 1>\u001b[0;34m()\u001b[0m\n\u001b[0;32m----> 1\u001b[0m \u001b[43mtest\u001b[49m\u001b[43m(\u001b[49m\u001b[38;5;241;43m4\u001b[39;49m\u001b[43m,\u001b[49m\u001b[38;5;241;43m0\u001b[39;49m\u001b[43m)\u001b[49m \u001b[38;5;66;03m#code got failed here so further execution will not happen\u001b[39;00m\n\u001b[1;32m      2\u001b[0m \u001b[38;5;28mprint\u001b[39m(\u001b[38;5;124m\"\u001b[39m\u001b[38;5;124mthis is after test function\u001b[39m\u001b[38;5;124m\"\u001b[39m)\n",
      "Input \u001b[0;32mIn [3]\u001b[0m, in \u001b[0;36mtest\u001b[0;34m(a, b)\u001b[0m\n\u001b[1;32m      1\u001b[0m \u001b[38;5;28;01mdef\u001b[39;00m \u001b[38;5;21mtest\u001b[39m(a,b):\n\u001b[0;32m----> 2\u001b[0m     \u001b[38;5;28;01mreturn\u001b[39;00m \u001b[43ma\u001b[49m\u001b[38;5;241;43m/\u001b[39;49m\u001b[43mb\u001b[49m\n",
      "\u001b[0;31mZeroDivisionError\u001b[0m: division by zero"
     ]
    }
   ],
   "source": [
    "test(4,0) #code got failed here so further execution will not happen\n",
    "print(\"this is after test function\")"
   ]
  },
  {
   "cell_type": "code",
   "execution_count": 5,
   "id": "e97306e3",
   "metadata": {},
   "outputs": [],
   "source": [
    "#4/0 means infinity and infinity does not exist in core python\n",
    "#infinity exist in python inside numpy packages there is a symbol called inf "
   ]
  },
  {
   "cell_type": "code",
   "execution_count": 8,
   "id": "45bafab7",
   "metadata": {},
   "outputs": [],
   "source": [
    "#syntactical mistake is compile time error i.e. print(\"dckmd)"
   ]
  },
  {
   "cell_type": "code",
   "execution_count": 10,
   "id": "ca924c63",
   "metadata": {},
   "outputs": [
    {
     "ename": "FileNotFoundError",
     "evalue": "[Errno 2] No such file or directory: 'test.txt'",
     "output_type": "error",
     "traceback": [
      "\u001b[0;31m---------------------------------------------------------------------------\u001b[0m",
      "\u001b[0;31mFileNotFoundError\u001b[0m                         Traceback (most recent call last)",
      "Input \u001b[0;32mIn [10]\u001b[0m, in \u001b[0;36m<cell line: 1>\u001b[0;34m()\u001b[0m\n\u001b[0;32m----> 1\u001b[0m a \u001b[38;5;241m=\u001b[39m \u001b[38;5;28;43mopen\u001b[39;49m\u001b[43m(\u001b[49m\u001b[38;5;124;43m\"\u001b[39;49m\u001b[38;5;124;43mtest.txt\u001b[39;49m\u001b[38;5;124;43m\"\u001b[39;49m\u001b[43m,\u001b[49m\u001b[43m \u001b[49m\u001b[38;5;124;43m\"\u001b[39;49m\u001b[38;5;124;43mr\u001b[39;49m\u001b[38;5;124;43m\"\u001b[39;49m\u001b[43m)\u001b[49m\n",
      "\u001b[0;31mFileNotFoundError\u001b[0m: [Errno 2] No such file or directory: 'test.txt'"
     ]
    }
   ],
   "source": [
    "a = open(\"test.txt\", \"r\")"
   ]
  },
  {
   "cell_type": "code",
   "execution_count": 13,
   "id": "14aad444",
   "metadata": {},
   "outputs": [
    {
     "ename": "SyntaxError",
     "evalue": "unexpected EOF while parsing (3637127541.py, line 2)",
     "output_type": "error",
     "traceback": [
      "\u001b[0;36m  Input \u001b[0;32mIn [13]\u001b[0;36m\u001b[0m\n\u001b[0;31m    a = open(\"test.txt\", \"r\")\u001b[0m\n\u001b[0m                             ^\u001b[0m\n\u001b[0;31mSyntaxError\u001b[0m\u001b[0;31m:\u001b[0m unexpected EOF while parsing\n"
     ]
    }
   ],
   "source": [
    "try:\n",
    "    a = open(\"test.txt\", \"r\")"
   ]
  },
  {
   "cell_type": "code",
   "execution_count": 12,
   "id": "6fc8aff7",
   "metadata": {},
   "outputs": [],
   "source": [
    "try:                            #when you have some doubt that code can give issue then we have to keep our \n",
    "    a = open(\"test.txt\", \"r\")   #code inside try block but if you are trying to keep something inside try  \n",
    "                                #block then you have to handle it, to handle this issue there is another \n",
    "except:                         #block except \n",
    "    pass"
   ]
  },
  {
   "cell_type": "code",
   "execution_count": 14,
   "id": "98dc37c8",
   "metadata": {},
   "outputs": [
    {
     "ename": "SyntaxError",
     "evalue": "invalid syntax (3557126668.py, line 4)",
     "output_type": "error",
     "traceback": [
      "\u001b[0;36m  Input \u001b[0;32mIn [14]\u001b[0;36m\u001b[0m\n\u001b[0;31m    except:\u001b[0m\n\u001b[0m    ^\u001b[0m\n\u001b[0;31mSyntaxError\u001b[0m\u001b[0;31m:\u001b[0m invalid syntax\n"
     ]
    }
   ],
   "source": [
    "try:               \n",
    "    a = open(\"test.txt\", \"r\"  \n",
    "                                \n",
    "except:\n",
    "    pass"
   ]
  },
  {
   "cell_type": "code",
   "execution_count": null,
   "id": "8f7505f5",
   "metadata": {},
   "outputs": [],
   "source": [
    "# here we have got syntax error(compile time error) so try and except block will not work"
   ]
  },
  {
   "cell_type": "code",
   "execution_count": null,
   "id": "3dfd37b0",
   "metadata": {},
   "outputs": [],
   "source": [
    "# try and catch block helps us in run time error "
   ]
  },
  {
   "cell_type": "code",
   "execution_count": null,
   "id": "113de24f",
   "metadata": {},
   "outputs": [],
   "source": [
    "#we can handle run time error with help of try and catch block but we cannot handle compile time error with   \n",
    "#help of try and catch block"
   ]
  },
  {
   "cell_type": "code",
   "execution_count": 16,
   "id": "aa135dd6",
   "metadata": {},
   "outputs": [
    {
     "name": "stdout",
     "output_type": "stream",
     "text": [
      "there is some issue with my code\n"
     ]
    }
   ],
   "source": [
    "try:               \n",
    "    a = open(\"test.txt\", \"r\")  \n",
    "                                \n",
    "except IOError:\n",
    "    print(\"there is some issue with my code\")"
   ]
  },
  {
   "cell_type": "code",
   "execution_count": null,
   "id": "f6663bda",
   "metadata": {},
   "outputs": [],
   "source": [
    "#IOError is a predefined classes which is already available inside a exception handling super class"
   ]
  },
  {
   "cell_type": "code",
   "execution_count": 18,
   "id": "e0de925c",
   "metadata": {},
   "outputs": [
    {
     "name": "stdout",
     "output_type": "stream",
     "text": [
      "there is some issue with my code\n"
     ]
    }
   ],
   "source": [
    "try:               \n",
    "    a = 5/0  \n",
    "                                \n",
    "except:\n",
    "    print(\"there is some issue with my code\")"
   ]
  },
  {
   "cell_type": "code",
   "execution_count": 19,
   "id": "dc88eea1",
   "metadata": {},
   "outputs": [
    {
     "ename": "ZeroDivisionError",
     "evalue": "division by zero",
     "output_type": "error",
     "traceback": [
      "\u001b[0;31m---------------------------------------------------------------------------\u001b[0m",
      "\u001b[0;31mZeroDivisionError\u001b[0m                         Traceback (most recent call last)",
      "Input \u001b[0;32mIn [19]\u001b[0m, in \u001b[0;36m<cell line: 1>\u001b[0;34m()\u001b[0m\n\u001b[1;32m      1\u001b[0m \u001b[38;5;28;01mtry\u001b[39;00m:               \n\u001b[0;32m----> 2\u001b[0m     a \u001b[38;5;241m=\u001b[39m \u001b[38;5;241;43m5\u001b[39;49m\u001b[38;5;241;43m/\u001b[39;49m\u001b[38;5;241;43m0\u001b[39;49m  \n\u001b[1;32m      4\u001b[0m \u001b[38;5;28;01mexcept\u001b[39;00m \u001b[38;5;167;01mIOError\u001b[39;00m:\n\u001b[1;32m      5\u001b[0m     \u001b[38;5;28mprint\u001b[39m(\u001b[38;5;124m\"\u001b[39m\u001b[38;5;124mthere is some issue with my code\u001b[39m\u001b[38;5;124m\"\u001b[39m)\n",
      "\u001b[0;31mZeroDivisionError\u001b[0m: division by zero"
     ]
    }
   ],
   "source": [
    "try:               \n",
    "    a = 5/0  \n",
    "                                \n",
    "except IOError:\n",
    "    print(\"there is some issue with my code\")"
   ]
  },
  {
   "cell_type": "code",
   "execution_count": 20,
   "id": "4870ed1d",
   "metadata": {},
   "outputs": [],
   "source": [
    " #super class of each and every error and exception is equal to exception classes inside it we can see \n",
    " #airthmatic error, zero division error, ioerror, key error, model not found error, memory error   "
   ]
  },
  {
   "cell_type": "code",
   "execution_count": 25,
   "id": "e5d84a0e",
   "metadata": {},
   "outputs": [
    {
     "name": "stdout",
     "output_type": "stream",
     "text": [
      "there is some issue with my code division by zero\n"
     ]
    }
   ],
   "source": [
    "try:               \n",
    "    a = 5/0  \n",
    "                                \n",
    "except ArithmeticError as e:\n",
    "    print(\"there is some issue with my code\",e)"
   ]
  },
  {
   "cell_type": "code",
   "execution_count": null,
   "id": "02715771",
   "metadata": {},
   "outputs": [],
   "source": [
    "#inside exception hanling modules there are multiple sub-modules, inside these sub-modules there are different \n",
    "#functions and different clases, so some function are responsible for handling ioerror, some function are  \n",
    "#responsible for handling arithmetic error, some function are responsible for handling zero division error,  \n",
    "#some function are responsible for handling memory error, some function are responsible for handling module not \n",
    "#found error"
   ]
  },
  {
   "cell_type": "code",
   "execution_count": 43,
   "id": "59632ca8",
   "metadata": {},
   "outputs": [
    {
     "name": "stdout",
     "output_type": "stream",
     "text": [
      "this will execute once try will execute with success\n"
     ]
    }
   ],
   "source": [
    "try:    #if try block executes successfully, then it will come to else\n",
    "    a = 5/4\n",
    "except ArithmeticError as e: #in unsuccessfull execution try will give control to except block to handle \n",
    "                             #exception\n",
    "    print(\"there is some issue with my code\",e)\n",
    "else:    #we give successful execution msg in else\n",
    "    print(\"this will execute once try will execute with success\")\n",
    "    \n",
    "        \n"
   ]
  },
  {
   "cell_type": "code",
   "execution_count": 45,
   "id": "2fdfbf4e",
   "metadata": {},
   "outputs": [
    {
     "name": "stdout",
     "output_type": "stream",
     "text": [
      "this will execute once try will execute with success\n",
      "there is an issue in a 2nd internal try block\n"
     ]
    }
   ],
   "source": [
    "try:    #if try block executes successfully, then it will come to else\n",
    "    a = 5/4\n",
    "except ArithmeticError as e: #in unsuccessfull execution try will give control to except block to handle exception\n",
    "    print(\"there is some issue with my code\",e)\n",
    "else:    #we give successful execution msg in else\n",
    "    print(\"this will execute once try will execute with success\") #till this line code executed successfully\n",
    " #  f = open(\"test.txt\", \"r\")  # issue came in this line and i have a doubt here, so i will use try block here\n",
    "\n",
    "    try:\n",
    "        f = open(\"test.txt\", \"r\")\n",
    "    except:\n",
    "        print(\"there is an issue in a 2nd internal try block\")\n",
    "        "
   ]
  },
  {
   "cell_type": "code",
   "execution_count": 46,
   "id": "97d41f07",
   "metadata": {},
   "outputs": [
    {
     "name": "stdout",
     "output_type": "stream",
     "text": [
      "there is some issue with my code division by zero\n"
     ]
    }
   ],
   "source": [
    "try:    #if try block executes successfully, then it will come to else\n",
    "    a = 5/0\n",
    "except ArithmeticError as e: #in unsuccessfull execution try will give control to except block to handle exception\n",
    "    print(\"there is some issue with my code\",e)\n",
    "else:    #we give successful execution msg in else\n",
    "    print(\"this will execute once try will execute with success\") #till this line code executed successfully\n",
    " #  f = open(\"test.txt\", \"r\")  # issue came in this line and i have a doubt here, so i will use try block here\n",
    "\n",
    "    try:\n",
    "        f = open(\"test.txt\", \"r\")\n",
    "    except:\n",
    "        print(\"there is an issue in a 2nd internal try block\")\n",
    "        "
   ]
  },
  {
   "cell_type": "code",
   "execution_count": 47,
   "id": "b06ff7e4",
   "metadata": {},
   "outputs": [
    {
     "name": "stdout",
     "output_type": "stream",
     "text": [
      "there is some issue with my code division by zero\n"
     ]
    }
   ],
   "source": [
    "try:    #if try block executes successfully, then it will come to else\n",
    "    a = 5/0\n",
    "except ArithmeticError as e: #in unsuccessfull execution try will give control to except block to handle exception\n",
    "    print(\"there is some issue with my code\",e)\n",
    "    f = open(\"test.txt\",\"w\")\n",
    "else:    #we give successful execution msg in else\n",
    "    print(\"this will execute once try will execute with success\") #till this line code executed successfully\n",
    " #  f = open(\"test.txt\", \"r\")  # issue came in this line and i have a doubt here, so i will use try block here\n",
    "\n",
    "    try:\n",
    "        f = open(\"test.txt\", \"r\")\n",
    "    except:\n",
    "        print(\"there is an issue in a 2nd internal try block\")\n",
    "        "
   ]
  },
  {
   "cell_type": "code",
   "execution_count": 48,
   "id": "1f4cbb5f",
   "metadata": {},
   "outputs": [
    {
     "name": "stdout",
     "output_type": "stream",
     "text": [
      "enter the first no 5\n",
      "enter the second no 2\n",
      "this will execute once try will execute with success\n"
     ]
    }
   ],
   "source": [
    "try:    #if try block executes successfully, then it will come to else\n",
    "    a = int(input(\"enter the first no \"))\n",
    "    b = int(input(\"enter the second no \"))\n",
    "    c = a/b\n",
    "except ArithmeticError as e: #in unsuccessfull execution try will give control to except block to handle exception\n",
    "    print(\"there is some issue with my code\",e)\n",
    "    f = open(\"test.txt\",\"w\")\n",
    "else:    #we give successful execution msg in else\n",
    "    print(\"this will execute once try will execute with success\") #till this line code executed successfully\n",
    " #  f = open(\"test.txt\", \"r\")  # issue came in this line and i have a doubt here, so i will use try block here\n",
    "\n",
    "    try:\n",
    "        f = open(\"test.txt\", \"r\")\n",
    "    except:\n",
    "        print(\"there is an issue in a 2nd internal try block\")\n",
    "        "
   ]
  },
  {
   "cell_type": "code",
   "execution_count": 49,
   "id": "3fd35ae2",
   "metadata": {},
   "outputs": [
    {
     "name": "stdout",
     "output_type": "stream",
     "text": [
      "enter the first no 5\n",
      "enter the second no 0\n",
      "there is some issue with my code division by zero\n"
     ]
    }
   ],
   "source": [
    "try:    #if try block executes successfully, then it will come to else\n",
    "    a = int(input(\"enter the first no \"))\n",
    "    b = int(input(\"enter the second no \"))\n",
    "    c = a/b\n",
    "except ArithmeticError as e: #in unsuccessfull execution try will give control to except block to handle exception\n",
    "    print(\"there is some issue with my code\",e)\n",
    "    f = open(\"test.txt\",\"w\")\n",
    "else:    #we give successful execution msg in else\n",
    "    print(\"this will execute once try will execute with success\") #till this line code executed successfully\n",
    " #  f = open(\"test.txt\", \"r\")  # issue came in this line and i have a doubt here, so i will use try block here\n",
    "\n",
    "    try:\n",
    "        f = open(\"test.txt\", \"r\")\n",
    "    except:\n",
    "        print(\"there is an issue in a 2nd internal try block\")\n",
    "        "
   ]
  },
  {
   "cell_type": "code",
   "execution_count": 50,
   "id": "9f6a3a54",
   "metadata": {},
   "outputs": [
    {
     "name": "stdout",
     "output_type": "stream",
     "text": [
      "enter the first no 3\n",
      "enter the second no 1\n",
      "this will execute once try will execute with success\n"
     ]
    }
   ],
   "source": [
    "try:    \n",
    "    a = int(input(\"enter the first no \"))\n",
    "    b = int(input(\"enter the second no \"))\n",
    "    c = a/b\n",
    "except ArithmeticError as e: \n",
    "    print(\"there is some issue with my code\",e)\n",
    "    f = open(\"test.txt\",\"w+\")\n",
    "    f.read()\n",
    "else:    \n",
    "    print(\"this will execute once try will execute with success\") \n",
    " #  f = open(\"test.txt\", \"r\")  \n",
    "    try:\n",
    "        f = open(\"test.txt\", \"r\")\n",
    "    except:\n",
    "        print(\"there is an issue in a 2nd internal try block\")\n",
    "        "
   ]
  },
  {
   "cell_type": "code",
   "execution_count": 51,
   "id": "cfb48cc2",
   "metadata": {},
   "outputs": [
    {
     "data": {
      "text/plain": [
       "'/Users/mac/testfol'"
      ]
     },
     "execution_count": 51,
     "metadata": {},
     "output_type": "execute_result"
    }
   ],
   "source": [
    "pwd()"
   ]
  },
  {
   "cell_type": "code",
   "execution_count": 57,
   "id": "33a784b4",
   "metadata": {},
   "outputs": [],
   "source": [
    "exit '/Users/mac/testfol'"
   ]
  },
  {
   "cell_type": "code",
   "execution_count": 58,
   "id": "02af7677",
   "metadata": {},
   "outputs": [
    {
     "data": {
      "text/plain": [
       "'/Users/mac/testfol'"
      ]
     },
     "execution_count": 58,
     "metadata": {},
     "output_type": "execute_result"
    }
   ],
   "source": [
    "pwd()"
   ]
  },
  {
   "cell_type": "code",
   "execution_count": 59,
   "id": "17f2f53c",
   "metadata": {},
   "outputs": [],
   "source": [
    "import os"
   ]
  },
  {
   "cell_type": "code",
   "execution_count": 60,
   "id": "4efa52a9",
   "metadata": {},
   "outputs": [
    {
     "ename": "SyntaxError",
     "evalue": "EOL while scanning string literal (3981474538.py, line 1)",
     "output_type": "error",
     "traceback": [
      "\u001b[0;36m  Input \u001b[0;32mIn [60]\u001b[0;36m\u001b[0m\n\u001b[0;31m    os.chdir(\"os.getcwd() + \"/\" + \"/Users/mac/testfol\")\u001b[0m\n\u001b[0m                                                       ^\u001b[0m\n\u001b[0;31mSyntaxError\u001b[0m\u001b[0;31m:\u001b[0m EOL while scanning string literal\n"
     ]
    }
   ],
   "source": [
    "os.chdir(\"os.getcwd() + \"/\" + \"/Users/mac/testfol\")"
   ]
  },
  {
   "cell_type": "code",
   "execution_count": 61,
   "id": "6cd124e4",
   "metadata": {},
   "outputs": [],
   "source": [
    "os.chdir(\"/Users/mac\")"
   ]
  },
  {
   "cell_type": "code",
   "execution_count": 62,
   "id": "13039586",
   "metadata": {},
   "outputs": [
    {
     "data": {
      "text/plain": [
       "'/Users/mac'"
      ]
     },
     "execution_count": 62,
     "metadata": {},
     "output_type": "execute_result"
    }
   ],
   "source": [
    "pwd()"
   ]
  },
  {
   "cell_type": "code",
   "execution_count": 64,
   "id": "d714757a",
   "metadata": {},
   "outputs": [
    {
     "name": "stdout",
     "output_type": "stream",
     "text": [
      "enter the first no 5\n",
      "enter the second no 2\n",
      "this will execute once try will execute with success\n",
      "there is an issue in a 2nd internal try block\n"
     ]
    }
   ],
   "source": [
    "try:    \n",
    "    a = int(input(\"enter the first no \"))\n",
    "    b = int(input(\"enter the second no \"))\n",
    "    c = a/b\n",
    "except ArithmeticError as e: \n",
    "    print(\"there is some issue with my code\",e)\n",
    "    f = open(\"test.txt\",\"w+\")\n",
    "    f.read()\n",
    "else:    \n",
    "    print(\"this will execute once try will execute with success\") \n",
    " #  f = open(\"test.txt\", \"r\")  \n",
    "    try:\n",
    "        f = open(\"test.txt\",\"r\")\n",
    "    except:\n",
    "        print(\"there is an issue in a 2nd internal try block\")\n",
    "        "
   ]
  },
  {
   "cell_type": "code",
   "execution_count": 1,
   "id": "47dbeac3",
   "metadata": {},
   "outputs": [],
   "source": [
    "#revision\n",
    "#we use to keep our code inside try block\n",
    "#if there is a issue in my code then it will come to except block \n",
    "#if there is no issue then it will come to else block"
   ]
  },
  {
   "cell_type": "code",
   "execution_count": 10,
   "id": "dae3036b",
   "metadata": {},
   "outputs": [
    {
     "ename": "IndexError",
     "evalue": "list index out of range",
     "output_type": "error",
     "traceback": [
      "\u001b[0;31m---------------------------------------------------------------------------\u001b[0m",
      "\u001b[0;31mIndexError\u001b[0m                                Traceback (most recent call last)",
      "Input \u001b[0;32mIn [10]\u001b[0m, in \u001b[0;36m<cell line: 2>\u001b[0;34m()\u001b[0m\n\u001b[1;32m      1\u001b[0m l \u001b[38;5;241m=\u001b[39m[\u001b[38;5;241m4\u001b[39m,\u001b[38;5;241m5\u001b[39m,\u001b[38;5;241m6\u001b[39m,\u001b[38;5;241m7\u001b[39m,\u001b[38;5;241m8\u001b[39m,\u001b[38;5;241m9\u001b[39m,\u001b[38;5;241m0\u001b[39m]\n\u001b[0;32m----> 2\u001b[0m \u001b[38;5;28mprint\u001b[39m(\u001b[43ml\u001b[49m\u001b[43m[\u001b[49m\u001b[38;5;241;43m100\u001b[39;49m\u001b[43m]\u001b[49m)\n\u001b[1;32m      3\u001b[0m t \u001b[38;5;241m=\u001b[39m (\u001b[38;5;241m4\u001b[39m,\u001b[38;5;241m5\u001b[39m,\u001b[38;5;241m6\u001b[39m,\u001b[38;5;241m7\u001b[39m,\u001b[38;5;241m7\u001b[39m,\u001b[38;5;241m8\u001b[39m,\u001b[38;5;241m9\u001b[39m)\n\u001b[1;32m      4\u001b[0m \u001b[38;5;28mprint\u001b[39m(t)\n",
      "\u001b[0;31mIndexError\u001b[0m: list index out of range"
     ]
    }
   ],
   "source": [
    "l =[4,5,6,7,8,9,0]\n",
    "print(l[100])\n",
    "t = (4,5,6,7,7,8,9)\n",
    "print(t)\n",
    "t[0] = \"sudh\""
   ]
  },
  {
   "cell_type": "code",
   "execution_count": 14,
   "id": "39087f0b",
   "metadata": {},
   "outputs": [
    {
     "name": "stdout",
     "output_type": "stream",
     "text": [
      "there is a issue in try block\n",
      "(4, 5, 6, 7, 7, 8, 9)\n"
     ]
    }
   ],
   "source": [
    "try:\n",
    "    l = [4,5,6,7,8,9,0]\n",
    "    l[100]\n",
    "except:\n",
    "    print(\"there is a issue in try block\")\n",
    "    t = (4,5,6,7,7,8,9)\n",
    "    print(t)\n",
    "    try:\n",
    "        t[0] = \"sudh\"\n",
    "        try:\n",
    "            list(t)\n",
    "            print(t)\n",
    "        except:\n",
    "            pass\n",
    "    except:\n",
    "        pass\n",
    "else:\n",
    "    print(\"there is no issue in try block\")"
   ]
  },
  {
   "cell_type": "code",
   "execution_count": null,
   "id": "28e38398",
   "metadata": {},
   "outputs": [],
   "source": [
    "#finally will execute itself in any circumstances whether there is a issue with try block whether you have not \n",
    "#handled those error but finally will execute in any condition "
   ]
  },
  {
   "cell_type": "code",
   "execution_count": 15,
   "id": "64ea4eec",
   "metadata": {},
   "outputs": [
    {
     "ename": "SyntaxError",
     "evalue": "unexpected EOF while parsing (2371353330.py, line 2)",
     "output_type": "error",
     "traceback": [
      "\u001b[0;36m  Input \u001b[0;32mIn [15]\u001b[0;36m\u001b[0m\n\u001b[0;31m    f = open(\"test22.txt\", \"r\")\u001b[0m\n\u001b[0m                               ^\u001b[0m\n\u001b[0;31mSyntaxError\u001b[0m\u001b[0;31m:\u001b[0m unexpected EOF while parsing\n"
     ]
    }
   ],
   "source": [
    "try:\n",
    "    f = open(\"test22.txt\", \"r\")\n",
    "    "
   ]
  },
  {
   "cell_type": "code",
   "execution_count": 21,
   "id": "92be84cb",
   "metadata": {},
   "outputs": [
    {
     "name": "stdout",
     "output_type": "stream",
     "text": [
      "i will execute in any case\n"
     ]
    },
    {
     "ename": "IndexError",
     "evalue": "list index out of range",
     "output_type": "error",
     "traceback": [
      "\u001b[0;31m---------------------------------------------------------------------------\u001b[0m",
      "\u001b[0;31mFileNotFoundError\u001b[0m                         Traceback (most recent call last)",
      "Input \u001b[0;32mIn [21]\u001b[0m, in \u001b[0;36m<cell line: 1>\u001b[0;34m()\u001b[0m\n\u001b[1;32m      1\u001b[0m \u001b[38;5;28;01mtry\u001b[39;00m:\n\u001b[0;32m----> 2\u001b[0m     f \u001b[38;5;241m=\u001b[39m \u001b[38;5;28;43mopen\u001b[39;49m\u001b[43m(\u001b[49m\u001b[38;5;124;43m\"\u001b[39;49m\u001b[38;5;124;43mtest22.txt\u001b[39;49m\u001b[38;5;124;43m\"\u001b[39;49m\u001b[43m,\u001b[49m\u001b[43m \u001b[49m\u001b[38;5;124;43m\"\u001b[39;49m\u001b[38;5;124;43mr\u001b[39;49m\u001b[38;5;124;43m\"\u001b[39;49m\u001b[43m)\u001b[49m\n\u001b[1;32m      3\u001b[0m \u001b[38;5;28;01mfinally\u001b[39;00m:\n",
      "\u001b[0;31mFileNotFoundError\u001b[0m: [Errno 2] No such file or directory: 'test22.txt'",
      "\nDuring handling of the above exception, another exception occurred:\n",
      "\u001b[0;31mIndexError\u001b[0m                                Traceback (most recent call last)",
      "Input \u001b[0;32mIn [21]\u001b[0m, in \u001b[0;36m<cell line: 1>\u001b[0;34m()\u001b[0m\n\u001b[1;32m      4\u001b[0m \u001b[38;5;28mprint\u001b[39m(\u001b[38;5;124m\"\u001b[39m\u001b[38;5;124mi will execute in any case\u001b[39m\u001b[38;5;124m\"\u001b[39m)\n\u001b[1;32m      5\u001b[0m l \u001b[38;5;241m=\u001b[39m [\u001b[38;5;241m4\u001b[39m,\u001b[38;5;241m5\u001b[39m,\u001b[38;5;241m3\u001b[39m,\u001b[38;5;241m2\u001b[39m,\u001b[38;5;241m7\u001b[39m]\n\u001b[0;32m----> 6\u001b[0m \u001b[38;5;28mprint\u001b[39m(\u001b[43ml\u001b[49m\u001b[43m[\u001b[49m\u001b[38;5;241;43m10\u001b[39;49m\u001b[43m]\u001b[49m)\n",
      "\u001b[0;31mIndexError\u001b[0m: list index out of range"
     ]
    }
   ],
   "source": [
    "try:\n",
    "    f = open(\"test22.txt\", \"r\")\n",
    "finally:\n",
    "    print(\"i will execute in any case\")\n",
    "    l = [4,5,3,2,7]\n",
    "    print(l[10])"
   ]
  },
  {
   "cell_type": "code",
   "execution_count": 22,
   "id": "1faa7d6d",
   "metadata": {},
   "outputs": [
    {
     "name": "stdout",
     "output_type": "stream",
     "text": [
      "i will execute in any case\n"
     ]
    },
    {
     "ename": "IndexError",
     "evalue": "list index out of range",
     "output_type": "error",
     "traceback": [
      "\u001b[0;31m---------------------------------------------------------------------------\u001b[0m",
      "\u001b[0;31mIndexError\u001b[0m                                Traceback (most recent call last)",
      "Input \u001b[0;32mIn [22]\u001b[0m, in \u001b[0;36m<cell line: 1>\u001b[0;34m()\u001b[0m\n\u001b[1;32m      6\u001b[0m \u001b[38;5;28mprint\u001b[39m(\u001b[38;5;124m\"\u001b[39m\u001b[38;5;124mi will execute in any case\u001b[39m\u001b[38;5;124m\"\u001b[39m)\n\u001b[1;32m      7\u001b[0m l \u001b[38;5;241m=\u001b[39m [\u001b[38;5;241m4\u001b[39m,\u001b[38;5;241m5\u001b[39m,\u001b[38;5;241m3\u001b[39m,\u001b[38;5;241m2\u001b[39m,\u001b[38;5;241m7\u001b[39m]\n\u001b[0;32m----> 8\u001b[0m \u001b[38;5;28mprint\u001b[39m(\u001b[43ml\u001b[49m\u001b[43m[\u001b[49m\u001b[38;5;241;43m10\u001b[39;49m\u001b[43m]\u001b[49m)\n",
      "\u001b[0;31mIndexError\u001b[0m: list index out of range"
     ]
    }
   ],
   "source": [
    "try:\n",
    "    f = open(\"test212.txt\", \"r\")\n",
    "except:\n",
    "    pass\n",
    "finally:\n",
    "    print(\"i will execute in any case\")\n",
    "    l = [4,5,3,2,7]\n",
    "    print(l[10])"
   ]
  },
  {
   "cell_type": "code",
   "execution_count": 27,
   "id": "403d5fd0",
   "metadata": {},
   "outputs": [
    {
     "name": "stdout",
     "output_type": "stream",
     "text": [
      "i will execute in any case\n"
     ]
    }
   ],
   "source": [
    "try:\n",
    "    f = open(\"test212.txt\", \"r\")\n",
    "except:\n",
    "    pass\n",
    "else:\n",
    "    print(\"else will execute if try will execute\")\n",
    "finally:\n",
    "    print(\"i will execute in any case\")\n",
    "    l = [4,5,3,2,7]\n",
    "    try:\n",
    "        print(l[10])\n",
    "    except:\n",
    "        pass\n",
    "    "
   ]
  },
  {
   "cell_type": "code",
   "execution_count": null,
   "id": "238c6174",
   "metadata": {},
   "outputs": [],
   "source": [
    "#try means suspicious code\n",
    "#except means if try will fail then it will come to except \n",
    "#else means if try will pass then it will come to else\n",
    "#finally means it will execute "
   ]
  },
  {
   "cell_type": "code",
   "execution_count": 28,
   "id": "ea39edc4",
   "metadata": {},
   "outputs": [
    {
     "name": "stdout",
     "output_type": "stream",
     "text": [
      "else will execute if try will execute\n",
      "i will execute in any case\n"
     ]
    }
   ],
   "source": [
    "try:\n",
    "    f = open(\"test212.txt\", \"w+\")\n",
    "except:\n",
    "    pass\n",
    "else:\n",
    "    print(\"else will execute if try will execute\")\n",
    "finally:\n",
    "    print(\"i will execute in any case\")\n",
    "    l = [4,5,3,2,7]\n",
    "    try:\n",
    "        print(l[10])\n",
    "    except:\n",
    "        pass\n",
    "    "
   ]
  },
  {
   "cell_type": "code",
   "execution_count": 30,
   "id": "18cbb140",
   "metadata": {},
   "outputs": [
    {
     "name": "stdout",
     "output_type": "stream",
     "text": [
      "this is the error i got [Errno 2] No such file or directory: 'test44.txt'\n"
     ]
    }
   ],
   "source": [
    "try:\n",
    "    f = open(\"test44.txt\",\"r\")\n",
    "except IOError as e: \n",
    "    print(\"this is the error i got\",e)"
   ]
  },
  {
   "cell_type": "code",
   "execution_count": 31,
   "id": "22d2d8b3",
   "metadata": {},
   "outputs": [
    {
     "ename": "FileNotFoundError",
     "evalue": "[Errno 2] No such file or directory: 'test44.txt'",
     "output_type": "error",
     "traceback": [
      "\u001b[0;31m---------------------------------------------------------------------------\u001b[0m",
      "\u001b[0;31mFileNotFoundError\u001b[0m                         Traceback (most recent call last)",
      "Input \u001b[0;32mIn [31]\u001b[0m, in \u001b[0;36m<cell line: 1>\u001b[0;34m()\u001b[0m\n\u001b[0;32m----> 1\u001b[0m f \u001b[38;5;241m=\u001b[39m \u001b[38;5;28;43mopen\u001b[39;49m\u001b[43m(\u001b[49m\u001b[38;5;124;43m\"\u001b[39;49m\u001b[38;5;124;43mtest44.txt\u001b[39;49m\u001b[38;5;124;43m\"\u001b[39;49m\u001b[43m,\u001b[49m\u001b[38;5;124;43m\"\u001b[39;49m\u001b[38;5;124;43mr\u001b[39;49m\u001b[38;5;124;43m\"\u001b[39;49m\u001b[43m)\u001b[49m\n",
      "\u001b[0;31mFileNotFoundError\u001b[0m: [Errno 2] No such file or directory: 'test44.txt'"
     ]
    }
   ],
   "source": [
    "    f = open(\"test44.txt\",\"r\")\n"
   ]
  },
  {
   "cell_type": "code",
   "execution_count": 34,
   "id": "3b94544a",
   "metadata": {},
   "outputs": [],
   "source": [
    "def askforint():\n",
    "    while True:\n",
    "        try:\n",
    "            a = int(input(\"enter an integer \"))\n",
    "            c =6\n",
    "        except FileNotFoundError as e:\n",
    "            print(\"this is incorrect value\", e)\n",
    "        except IOError as e:  \n",
    "            print(e)\n",
    "        except ValueError as e:\n",
    "            print(e)\n",
    "        except ArithmeticError as e:\n",
    "            print(\"this is a arithmetic error \",e)\n",
    "        except ZeroDivisioError as e:\n",
    "            print(e)\n",
    "        else:\n",
    "            print(\"this is a correct value \")\n",
    "            break                                     #when it will come in else block then it will break means \n",
    "        finally:                                      #untill n unless it is not getting correct value it will \n",
    "            print(\"close the issue\")                  #keep on executing \n",
    "        "
   ]
  },
  {
   "cell_type": "code",
   "execution_count": 35,
   "id": "8f5070e1",
   "metadata": {},
   "outputs": [
    {
     "name": "stdout",
     "output_type": "stream",
     "text": [
      "enter an integer 0\n",
      "this is a correct value \n",
      "close the issue\n"
     ]
    }
   ],
   "source": [
    "askforint()"
   ]
  },
  {
   "cell_type": "code",
   "execution_count": 15,
   "id": "3781aa55",
   "metadata": {},
   "outputs": [],
   "source": [
    "#when it will come in else block then it will break means untill n unless it is not getting correct value it will \n",
    "#keep on executing"
   ]
  },
  {
   "cell_type": "code",
   "execution_count": null,
   "id": "c1ed21fa",
   "metadata": {},
   "outputs": [],
   "source": [
    "#invalid literal for int() with base 10: 'kmckm'-->this msg i am getting from this line(except Exception as e: )"
   ]
  },
  {
   "cell_type": "code",
   "execution_count": null,
   "id": "4d2ef795",
   "metadata": {},
   "outputs": [],
   "source": [
    "#we have put whie loop so it will keep on running loop again and again"
   ]
  },
  {
   "cell_type": "code",
   "execution_count": 5,
   "id": "df4c1c92",
   "metadata": {},
   "outputs": [],
   "source": [
    "def askforint():\n",
    "    while True:\n",
    "        try:\n",
    "            a = int(input(\"enter an integer \"))\n",
    "            c =8/a\n",
    "        except FileNotFoundError as e:\n",
    "            print(\"this is incorrect value\", e)\n",
    "        except IOError as e:  \n",
    "            print(e)\n",
    "        except ValueError as e:\n",
    "            print(e)\n",
    "        except ArithmeticError as e:\n",
    "            print(\"this is a arithmetic error \",e)\n",
    "        except ZeroDivisioError as e:\n",
    "            print(e)\n",
    "        else:\n",
    "            print(\"this is a correct value \")\n",
    "            break\n",
    "        finally:\n",
    "            print(\"close the issue\")\n",
    "        "
   ]
  },
  {
   "cell_type": "code",
   "execution_count": 6,
   "id": "e28548cb",
   "metadata": {},
   "outputs": [
    {
     "name": "stdout",
     "output_type": "stream",
     "text": [
      "enter an integer 0\n",
      "this is a arithmetic error  division by zero\n",
      "close the issue\n",
      "enter an integer 9\n",
      "this is a correct value \n",
      "close the issue\n"
     ]
    }
   ],
   "source": [
    "askforint()"
   ]
  },
  {
   "cell_type": "code",
   "execution_count": null,
   "id": "f9d11733",
   "metadata": {},
   "outputs": [],
   "source": [
    "#ArithmeticError and ZeroDivisioError both are able to handle (c = 8/a) type of situation\n",
    "#ArithmeticError has higher order as compare to ZeroDivisioError, so issue is handled in ArithmeticError itself  \n",
    "#hence we are getting this is a arithmetic error in the result and issue is not trying to get inside  \n",
    "#ZeroDivisioError, issue is handled in ArithmeticError"
   ]
  },
  {
   "cell_type": "code",
   "execution_count": 7,
   "id": "777c422d",
   "metadata": {},
   "outputs": [],
   "source": [
    "def askforint():\n",
    "    while True:\n",
    "        try:\n",
    "            a = int(input(\"enter an integer \"))\n",
    "            c =8/a\n",
    "        except FileNotFoundError as e:\n",
    "            print(\"this is incorrect value\", e)\n",
    "        except IOError as e:  \n",
    "            print(e)\n",
    "        except ValueError as e:\n",
    "            print(e)\n",
    "        except Exception as e:\n",
    "            print(\"this is coming from parent class\")\n",
    "        except ArithmeticError as e:\n",
    "            print(\"this is a arithmetic error \",e)\n",
    "        except ZeroDivisioError as e:\n",
    "            print(e)\n",
    "        else:\n",
    "            print(\"this is a correct value \")\n",
    "            break\n",
    "        finally:\n",
    "            print(\"close the issue\")\n",
    "        "
   ]
  },
  {
   "cell_type": "code",
   "execution_count": 8,
   "id": "c52ef077",
   "metadata": {},
   "outputs": [
    {
     "name": "stdout",
     "output_type": "stream",
     "text": [
      "enter an integer 0\n",
      "this is coming from parent class\n",
      "close the issue\n",
      "enter an integer 7\n",
      "this is a correct value \n",
      "close the issue\n"
     ]
    }
   ],
   "source": [
    "askforint()"
   ]
  },
  {
   "cell_type": "code",
   "execution_count": null,
   "id": "c23a7222",
   "metadata": {},
   "outputs": [],
   "source": [
    "#exception always looks for handler, whatever best possible handler or parent class handler it will be able to  \n",
    "#get in a first place it will try to handle that particular error "
   ]
  },
  {
   "cell_type": "code",
   "execution_count": null,
   "id": "d28cc463",
   "metadata": {},
   "outputs": [],
   "source": [
    "#if you don't know what kind of issue you will get then do (Exception as e, then call it)."
   ]
  },
  {
   "cell_type": "code",
   "execution_count": null,
   "id": "c6ab161b",
   "metadata": {},
   "outputs": [],
   "source": [
    "#EAFP easier to ask for a forgiveness than a permission\n",
    "#LBUL look before you leap"
   ]
  },
  {
   "cell_type": "code",
   "execution_count": 34,
   "id": "a0279d24",
   "metadata": {},
   "outputs": [],
   "source": [
    "def createyourexception(a):\n",
    "    if a > 6:\n",
    "        raise Exception(\"Error is \",a)\n",
    "    else:\n",
    "        print(\"input is ok\")\n",
    "    return a    "
   ]
  },
  {
   "cell_type": "code",
   "execution_count": 35,
   "id": "69e39e2c",
   "metadata": {},
   "outputs": [
    {
     "name": "stdout",
     "output_type": "stream",
     "text": [
      "('Error is ', 10)\n"
     ]
    }
   ],
   "source": [
    "try:\n",
    "    createyourexception(10)\n",
    "except Exception as e:\n",
    "    print(e)\n",
    "    \n",
    "    "
   ]
  },
  {
   "cell_type": "code",
   "execution_count": 30,
   "id": "c49a6841",
   "metadata": {},
   "outputs": [
    {
     "data": {
      "text/plain": [
       "7"
      ]
     },
     "execution_count": 30,
     "metadata": {},
     "output_type": "execute_result"
    }
   ],
   "source": [
    "a"
   ]
  },
  {
   "cell_type": "code",
   "execution_count": 38,
   "id": "b50df5cc",
   "metadata": {},
   "outputs": [],
   "source": [
    "def createyourexception(a):\n",
    "    if a == 6:\n",
    "        raise Exception(\"Error is \",a)\n",
    "    else:\n",
    "        print(\"input is ok\")\n",
    "    return a    "
   ]
  },
  {
   "cell_type": "code",
   "execution_count": 39,
   "id": "ae8a941d",
   "metadata": {},
   "outputs": [
    {
     "name": "stdout",
     "output_type": "stream",
     "text": [
      "('Error is ', 6)\n"
     ]
    }
   ],
   "source": [
    "try:\n",
    "    createyourexception(6)\n",
    "except Exception as e:\n",
    "    print(e)\n",
    "    "
   ]
  },
  {
   "cell_type": "code",
   "execution_count": 40,
   "id": "914e2303",
   "metadata": {},
   "outputs": [
    {
     "name": "stdout",
     "output_type": "stream",
     "text": [
      "even\n",
      "even\n",
      "even\n",
      "even\n",
      "even\n",
      "even\n",
      "even\n",
      "even\n",
      "even\n",
      "even\n",
      "even\n",
      "even\n",
      "even\n",
      "even\n",
      "even\n",
      "even\n",
      "even\n",
      "even\n",
      "even\n",
      "even\n",
      "even\n",
      "even\n",
      "even\n",
      "even\n",
      "even\n",
      "even\n",
      "even\n",
      "even\n",
      "even\n",
      "even\n",
      "even\n",
      "even\n",
      "even\n",
      "even\n",
      "even\n",
      "even\n",
      "even\n",
      "even\n",
      "even\n",
      "even\n",
      "even\n",
      "even\n",
      "even\n",
      "even\n",
      "even\n",
      "even\n",
      "even\n",
      "even\n",
      "even\n",
      "even\n"
     ]
    }
   ],
   "source": [
    "for i in range(100):\n",
    "    if i%2 == 0:\n",
    "        print(\"even\")\n",
    "    \n",
    "    "
   ]
  },
  {
   "cell_type": "code",
   "execution_count": null,
   "id": "36e82c99",
   "metadata": {},
   "outputs": [],
   "source": []
  }
 ],
 "metadata": {
  "kernelspec": {
   "display_name": "Python 3 (ipykernel)",
   "language": "python",
   "name": "python3"
  },
  "language_info": {
   "codemirror_mode": {
    "name": "ipython",
    "version": 3
   },
   "file_extension": ".py",
   "mimetype": "text/x-python",
   "name": "python",
   "nbconvert_exporter": "python",
   "pygments_lexer": "ipython3",
   "version": "3.9.12"
  }
 },
 "nbformat": 4,
 "nbformat_minor": 5
}
